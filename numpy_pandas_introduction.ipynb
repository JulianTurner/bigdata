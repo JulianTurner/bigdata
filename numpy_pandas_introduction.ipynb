{
 "cells": [
  {
   "cell_type": "markdown",
   "metadata": {
    "collapsed": false
   },
   "source": [
    "# A Numpy and Pandas introduction"
   ]
  },
  {
   "cell_type": "markdown",
   "metadata": {
    "collapsed": false
   },
   "source": [
    "## Numpy\n",
    "Library for n-dimensional arrays, array-maths, etc.\n",
    "\n",
    "Each array has a single data type."
   ]
  },
  {
   "cell_type": "code",
   "execution_count": 1,
   "metadata": {
    "collapsed": false
   },
   "outputs": [],
   "source": [
    "import numpy as np"
   ]
  },
  {
   "cell_type": "code",
   "execution_count": 6,
   "metadata": {
    "collapsed": false
   },
   "outputs": [
    {
     "name": "stdout",
     "output_type": "stream",
     "text": [
      "[1. 1. 1. 1. 1. 1. 1. 1. 1. 1.]\n",
      "float64\n",
      "\n",
      "[ 3 41 73 36 66 95 31  3 46 56]\n",
      "int64\n"
     ]
    }
   ],
   "source": [
    "# 1 dimensional array\n",
    "one_d_array = np.ones(shape=10)\n",
    "print(one_d_array)\n",
    "print(one_d_array.dtype)\n",
    "print()\n",
    "randint_one_d_array = np.random.randint(1,101, size=10)\n",
    "print(randint_one_d_array)\n",
    "print(randint_one_d_array.dtype)"
   ]
  },
  {
   "cell_type": "code",
   "execution_count": 7,
   "metadata": {
    "collapsed": false
   },
   "outputs": [
    {
     "name": "stdout",
     "output_type": "stream",
     "text": [
      "[[1. 1. 1. 1. 1.]\n",
      " [1. 1. 1. 1. 1.]\n",
      " [1. 1. 1. 1. 1.]\n",
      " [1. 1. 1. 1. 1.]\n",
      " [1. 1. 1. 1. 1.]]\n"
     ]
    }
   ],
   "source": [
    "# 2 dimensional array\n",
    "two_d_array = np.ones(shape=(5,5))\n",
    "print(two_d_array)"
   ]
  },
  {
   "cell_type": "code",
   "execution_count": 8,
   "metadata": {
    "collapsed": false
   },
   "outputs": [
    {
     "name": "stdout",
     "output_type": "stream",
     "text": [
      "3D Array:\n",
      "[[[1. 1. 1.]\n",
      "  [1. 1. 1.]\n",
      "  [1. 1. 1.]]\n",
      "\n",
      " [[1. 1. 1.]\n",
      "  [1. 1. 1.]\n",
      "  [1. 1. 1.]]\n",
      "\n",
      " [[1. 1. 1.]\n",
      "  [1. 1. 1.]\n",
      "  [1. 1. 1.]]]\n",
      "\n",
      "4D Array:\n",
      "[[[[1. 1. 1.]\n",
      "   [1. 1. 1.]\n",
      "   [1. 1. 1.]]\n",
      "\n",
      "  [[1. 1. 1.]\n",
      "   [1. 1. 1.]\n",
      "   [1. 1. 1.]]\n",
      "\n",
      "  [[1. 1. 1.]\n",
      "   [1. 1. 1.]\n",
      "   [1. 1. 1.]]]\n",
      "\n",
      "\n",
      " [[[1. 1. 1.]\n",
      "   [1. 1. 1.]\n",
      "   [1. 1. 1.]]\n",
      "\n",
      "  [[1. 1. 1.]\n",
      "   [1. 1. 1.]\n",
      "   [1. 1. 1.]]\n",
      "\n",
      "  [[1. 1. 1.]\n",
      "   [1. 1. 1.]\n",
      "   [1. 1. 1.]]]\n",
      "\n",
      "\n",
      " [[[1. 1. 1.]\n",
      "   [1. 1. 1.]\n",
      "   [1. 1. 1.]]\n",
      "\n",
      "  [[1. 1. 1.]\n",
      "   [1. 1. 1.]\n",
      "   [1. 1. 1.]]\n",
      "\n",
      "  [[1. 1. 1.]\n",
      "   [1. 1. 1.]\n",
      "   [1. 1. 1.]]]]\n"
     ]
    }
   ],
   "source": [
    "# Excurse: higher dimensional arrays\n",
    "print('3D Array:\\n' + np.array2string(np.ones(shape=(3,3,3))))\n",
    "print()\n",
    "print('4D Array:\\n' + np.array2string(np.ones(shape=(3,3,3,3))))"
   ]
  },
  {
   "cell_type": "code",
   "execution_count": 10,
   "metadata": {
    "collapsed": false
   },
   "outputs": [
    {
     "name": "stdout",
     "output_type": "stream",
     "text": [
      "Original:\n",
      "[1. 1. 1. 1. 1. 1. 1. 1. 1. 1. 1. 1. 1. 1. 1.]\n",
      "Original shape: (15,)\n",
      "\n",
      "Original:\n",
      "[[1. 1. 1. 1. 1. 1. 1. 1. 1. 1. 1. 1. 1. 1. 1.]]\n",
      "Original shape: (1, 15)\n",
      "\n",
      "1st reshape:\n",
      "[[1. 1. 1. 1. 1.]\n",
      " [1. 1. 1. 1. 1.]\n",
      " [1. 1. 1. 1. 1.]]\n",
      "1st reshape shape: (3, 5)\n",
      "\n",
      "2nd reshape:\n",
      "[[1. 1. 1. 1. 1.]\n",
      " [1. 1. 1. 1. 1.]\n",
      " [1. 1. 1. 1. 1.]]\n",
      "2nd reshape shape: (3, 5)\n",
      "\n",
      "3rd reshape:\n",
      "[[1. 1. 1. 1. 1.]\n",
      " [1. 1. 1. 1. 1.]\n",
      " [1. 1. 1. 1. 1.]]\n",
      "3rd reshape shape: (3, 5)\n"
     ]
    }
   ],
   "source": [
    "reshape_me = np.ones(shape=15)\n",
    "print(f'Original:\\n{np.array2string(reshape_me)}')\n",
    "print(f'Original shape: {reshape_me.shape}')\n",
    "print()\n",
    "\n",
    "# both dimensions provided\n",
    "reshaped = reshape_me.reshape((3,5))\n",
    "print(f'1st reshape:\\n{np.array2string(reshaped)}')\n",
    "print(f'1st reshape shape: {reshaped.shape}')\n",
    "print()\n",
    "\n",
    "# figure out the second dimension on your own\n",
    "reshaped = reshape_me.reshape((3,-1))\n",
    "print(f'2nd reshape:\\n{np.array2string(reshaped)}')\n",
    "print(f'2nd reshape shape: {reshaped.shape}')\n",
    "print()\n",
    "\n",
    "# figure out the first dimension on your own\n",
    "reshaped = reshape_me.reshape((-1,5))\n",
    "print(f'3rd reshape:\\n{np.array2string(reshaped)}')\n",
    "print(f'3rd reshape shape: {reshaped.shape}')"
   ]
  },
  {
   "cell_type": "markdown",
   "metadata": {
    "collapsed": false
   },
   "source": [
    "## Pandas\n",
    "Library for processing tabular data"
   ]
  },
  {
   "cell_type": "code",
   "execution_count": 11,
   "metadata": {
    "collapsed": false
   },
   "outputs": [],
   "source": [
    "import pandas as pd"
   ]
  },
  {
   "cell_type": "markdown",
   "metadata": {
    "collapsed": false
   },
   "source": [
    "### Pandas Series\n",
    "- almost like Numpy array\n",
    "- has single data type\n",
    "- has name\n",
    "- has labels 'instead of' indexes"
   ]
  },
  {
   "cell_type": "code",
   "execution_count": 12,
   "metadata": {
    "collapsed": false
   },
   "outputs": [
    {
     "name": "stdout",
     "output_type": "stream",
     "text": [
      "Luke      0\n",
      "Paul      1\n",
      "Gustav    2\n",
      "Ellen     3\n",
      "Zack      4\n",
      "Name: importance, dtype: int64\n"
     ]
    }
   ],
   "source": [
    "pandas_series = pd.Series(range(5), index=['Luke', 'Paul', 'Gustav', 'Ellen', 'Zack'], name='importance')\n",
    "print(pandas_series)"
   ]
  },
  {
   "cell_type": "markdown",
   "metadata": {
    "collapsed": false
   },
   "source": [
    "### Pandas DataFrame\n",
    "- 'horizontal stacking' of multiple Series\n",
    "- all Series share the same labels\n",
    "- each Series has its own datatype\n",
    "    - entire DataFrame can contain data of different types"
   ]
  },
  {
   "cell_type": "code",
   "execution_count": 13,
   "metadata": {
    "collapsed": false
   },
   "outputs": [
    {
     "name": "stdout",
     "output_type": "stream",
     "text": [
      "        a  b  c  d   e  f  g\n",
      "Luke    6  3  5  8   2  6  3\n",
      "Paul    9  3  6  4  10  7  9\n",
      "Gustav  8  6  6  8   6  4  4\n",
      "Ellen   4  3  4  7   8  6  1\n",
      "Zack    7  1  9  8   3  7  9\n",
      "\n",
      "a    int64\n",
      "b    int64\n",
      "c    int64\n",
      "d    int64\n",
      "e    int64\n",
      "f    int64\n",
      "g    int64\n",
      "dtype: object\n"
     ]
    }
   ],
   "source": [
    "pandas_dataframe = pd.DataFrame(\n",
    "    np.random.randint(1,11, size=(5,7)),\n",
    "    index=['Luke', 'Paul', 'Gustav', 'Ellen', 'Zack'],\n",
    "    columns=['a', 'b', 'c', 'd', 'e', 'f', 'g']\n",
    ")\n",
    "print(pandas_dataframe)\n",
    "print()\n",
    "print(pandas_dataframe.dtypes)"
   ]
  },
  {
   "cell_type": "code",
   "execution_count": 14,
   "metadata": {
    "collapsed": false
   },
   "outputs": [
    {
     "name": "stdout",
     "output_type": "stream",
     "text": [
      "Luke      6\n",
      "Paul      9\n",
      "Gustav    8\n",
      "Ellen     4\n",
      "Zack      7\n",
      "Name: a, dtype: int64\n",
      "<class 'pandas.core.series.Series'>\n"
     ]
    }
   ],
   "source": [
    "# selecting single column returns Series\n",
    "selected_series = pandas_dataframe['a']\n",
    "print(selected_series)\n",
    "print(type(selected_series))"
   ]
  },
  {
   "cell_type": "code",
   "execution_count": 22,
   "metadata": {
    "collapsed": false
   },
   "outputs": [
    {
     "name": "stdout",
     "output_type": "stream",
     "text": [
      "Luke      6\n",
      "Paul      9\n",
      "Gustav    8\n",
      "Ellen     4\n",
      "Zack      7\n",
      "Name: a, dtype: int64\n",
      "<class 'pandas.core.series.Series'>\n"
     ]
    }
   ],
   "source": [
    "# when selecting data for transformation express desire to select all rows\n",
    "selected_series = pandas_dataframe.loc[:, 'a']\n",
    "print(selected_series)\n",
    "print(type(selected_series))"
   ]
  },
  {
   "cell_type": "code",
   "execution_count": 27,
   "metadata": {
    "collapsed": false
   },
   "outputs": [
    {
     "name": "stdout",
     "output_type": "stream",
     "text": [
      "        a  b\n",
      "Luke    6  3\n",
      "Paul    9  3\n",
      "Gustav  8  6\n",
      "Ellen   4  3\n",
      "Zack    7  1\n",
      "<class 'pandas.core.frame.DataFrame'>\n"
     ]
    }
   ],
   "source": [
    "# selecting multiple columns returns DataFrame\n",
    "selected_df = pandas_dataframe[['a', 'b']]\n",
    "print(selected_df)\n",
    "print(type(selected_df))"
   ]
  },
  {
   "cell_type": "markdown",
   "metadata": {
    "collapsed": false
   },
   "source": []
  },
  {
   "cell_type": "code",
   "execution_count": 30,
   "metadata": {
    "collapsed": false
   },
   "outputs": [
    {
     "name": "stdout",
     "output_type": "stream",
     "text": [
      "        a  b    c  d   e  f  g\n",
      "Luke    6  3  1.0  8   2  6  3\n",
      "Paul    9  3  1.0  4  10  7  9\n",
      "Gustav  8  6  1.0  8   6  4  4\n",
      "Ellen   4  3  1.0  7   8  6  1\n",
      "Zack    7  1  1.0  8   3  7  9\n",
      "\n",
      "a      int64\n",
      "b      int64\n",
      "c    float64\n",
      "d      int64\n",
      "e      int64\n",
      "f      int64\n",
      "g      int64\n",
      "dtype: object\n"
     ]
    }
   ],
   "source": [
    "# replace data of column\n",
    "pandas_dataframe['c'] = np.ones(5)\n",
    "print(pandas_dataframe)\n",
    "print()\n",
    "print(pandas_dataframe.dtypes)"
   ]
  }
 ],
 "metadata": {
  "kernelspec": {
   "display_name": "Python 3.9.15 64-bit",
   "language": "python",
   "name": "python3"
  },
  "language_info": {
   "codemirror_mode": {
    "name": "ipython",
    "version": 3
   },
   "file_extension": ".py",
   "mimetype": "text/x-python",
   "name": "python",
   "nbconvert_exporter": "python",
   "pygments_lexer": "ipython3",
   "version": "3.9.15"
  },
  "vscode": {
   "interpreter": {
    "hash": "949777d72b0d2535278d3dc13498b2535136f6dfe0678499012e853ee9abcab1"
   }
  }
 },
 "nbformat": 4,
 "nbformat_minor": 0
}
