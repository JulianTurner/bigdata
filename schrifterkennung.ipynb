{
 "cells": [
  {
   "cell_type": "markdown",
   "metadata": {},
   "source": []
  },
  {
   "cell_type": "code",
   "execution_count": 21,
   "metadata": {},
   "outputs": [],
   "source": [
    "import tensorflow as tf\n",
    "import matplotlib.pyplot as plt"
   ]
  },
  {
   "cell_type": "markdown",
   "metadata": {},
   "source": [
    "Import MNIST Dataset"
   ]
  },
  {
   "cell_type": "code",
   "execution_count": 22,
   "metadata": {},
   "outputs": [],
   "source": [
    "mnist = tf.keras.datasets.mnist"
   ]
  },
  {
   "cell_type": "markdown",
   "metadata": {},
   "source": [
    "Split Data and Training"
   ]
  },
  {
   "cell_type": "code",
   "execution_count": 23,
   "metadata": {},
   "outputs": [],
   "source": [
    "(training_data, training_labels), (test_data, test_labels) = mnist.load_data()\n",
    "\n",
    "#training_data, test_data = training_data, test_data\n",
    "\n",
    "training_data, test_data = training_data / 255, test_data / 255"
   ]
  },
  {
   "cell_type": "markdown",
   "metadata": {},
   "source": [
    "Create Network"
   ]
  },
  {
   "cell_type": "code",
   "execution_count": 24,
   "metadata": {},
   "outputs": [],
   "source": [
    "model = tf.keras.Sequential([\n",
    "    #first layer = 28x28 Pixel in 784 Neurons flatten\n",
    "    tf.keras.layers.Flatten(input_shape=(28,28)),\n",
    "\n",
    "    # first hidden layer\n",
    "    tf.keras.layers.Dense(128, activation=tf.nn.relu),\n",
    "\n",
    "    # second hidden layer \n",
    "    tf.keras.layers.Dense(10, activation=tf.nn.softmax)\n",
    "])"
   ]
  },
  {
   "cell_type": "markdown",
   "metadata": {},
   "source": [
    "Build Network"
   ]
  },
  {
   "cell_type": "code",
   "execution_count": 25,
   "metadata": {},
   "outputs": [],
   "source": [
    "model.compile(\n",
    "    optimizer=tf.keras.optimizers.Adam(),\n",
    "    loss= 'sparse_categorical_crossentropy', # Errors in Network\n",
    "    metrics= ['accuracy']\n",
    ")"
   ]
  },
  {
   "cell_type": "markdown",
   "metadata": {},
   "source": [
    "Train Model"
   ]
  },
  {
   "cell_type": "code",
   "execution_count": 26,
   "metadata": {},
   "outputs": [
    {
     "name": "stdout",
     "output_type": "stream",
     "text": [
      "Epoch 1/40\n",
      "1875/1875 [==============================] - 3s 1ms/step - loss: 0.2547 - accuracy: 0.9282\n",
      "Epoch 2/40\n",
      "1875/1875 [==============================] - 2s 1ms/step - loss: 0.1118 - accuracy: 0.9671\n",
      "Epoch 3/40\n",
      "1875/1875 [==============================] - 2s 1ms/step - loss: 0.0759 - accuracy: 0.9766\n",
      "Epoch 4/40\n",
      "1875/1875 [==============================] - 2s 1ms/step - loss: 0.0559 - accuracy: 0.9833\n",
      "Epoch 5/40\n",
      "1875/1875 [==============================] - 2s 1ms/step - loss: 0.0431 - accuracy: 0.9868\n",
      "Epoch 6/40\n",
      "1875/1875 [==============================] - 2s 1ms/step - loss: 0.0358 - accuracy: 0.9890\n",
      "Epoch 7/40\n",
      "1875/1875 [==============================] - 2s 1ms/step - loss: 0.0270 - accuracy: 0.9916\n",
      "Epoch 8/40\n",
      "1875/1875 [==============================] - 2s 1ms/step - loss: 0.0219 - accuracy: 0.9932\n",
      "Epoch 9/40\n",
      "1875/1875 [==============================] - 2s 1ms/step - loss: 0.0198 - accuracy: 0.9938\n",
      "Epoch 10/40\n",
      "1875/1875 [==============================] - 2s 1ms/step - loss: 0.0167 - accuracy: 0.9948\n",
      "Epoch 11/40\n",
      "1875/1875 [==============================] - 2s 1ms/step - loss: 0.0125 - accuracy: 0.9963\n",
      "Epoch 12/40\n",
      "1875/1875 [==============================] - 2s 1ms/step - loss: 0.0115 - accuracy: 0.9963\n",
      "Epoch 13/40\n",
      "1875/1875 [==============================] - 2s 1ms/step - loss: 0.0111 - accuracy: 0.9965\n",
      "Epoch 14/40\n",
      "1875/1875 [==============================] - 2s 1ms/step - loss: 0.0081 - accuracy: 0.9973\n",
      "Epoch 15/40\n",
      "1875/1875 [==============================] - 2s 1ms/step - loss: 0.0078 - accuracy: 0.9976\n",
      "Epoch 16/40\n",
      "1875/1875 [==============================] - 2s 1ms/step - loss: 0.0085 - accuracy: 0.9973\n",
      "Epoch 17/40\n",
      "1875/1875 [==============================] - 2s 1ms/step - loss: 0.0054 - accuracy: 0.9982\n",
      "Epoch 18/40\n",
      "1875/1875 [==============================] - 3s 1ms/step - loss: 0.0061 - accuracy: 0.9980\n",
      "Epoch 19/40\n",
      "1875/1875 [==============================] - 2s 1ms/step - loss: 0.0075 - accuracy: 0.9974\n",
      "Epoch 20/40\n",
      "1875/1875 [==============================] - 2s 1ms/step - loss: 0.0033 - accuracy: 0.9990\n",
      "Epoch 21/40\n",
      "1875/1875 [==============================] - 2s 1ms/step - loss: 0.0054 - accuracy: 0.9982\n",
      "Epoch 22/40\n",
      "1875/1875 [==============================] - 2s 1ms/step - loss: 0.0052 - accuracy: 0.9983\n",
      "Epoch 23/40\n",
      "1875/1875 [==============================] - 2s 1ms/step - loss: 0.0038 - accuracy: 0.9989\n",
      "Epoch 24/40\n",
      "1875/1875 [==============================] - 2s 1ms/step - loss: 0.0054 - accuracy: 0.9983\n",
      "Epoch 25/40\n",
      "1875/1875 [==============================] - 2s 1ms/step - loss: 0.0047 - accuracy: 0.9985\n",
      "Epoch 26/40\n",
      "1875/1875 [==============================] - 2s 1ms/step - loss: 0.0032 - accuracy: 0.9987\n",
      "Epoch 27/40\n",
      "1875/1875 [==============================] - 2s 1ms/step - loss: 0.0042 - accuracy: 0.9986\n",
      "Epoch 28/40\n",
      "1875/1875 [==============================] - 2s 1ms/step - loss: 0.0036 - accuracy: 0.9989\n",
      "Epoch 29/40\n",
      "1875/1875 [==============================] - 2s 1ms/step - loss: 0.0043 - accuracy: 0.9986\n",
      "Epoch 30/40\n",
      "1875/1875 [==============================] - 2s 1ms/step - loss: 0.0023 - accuracy: 0.9993\n",
      "Epoch 31/40\n",
      "1875/1875 [==============================] - 2s 1ms/step - loss: 0.0043 - accuracy: 0.9987\n",
      "Epoch 32/40\n",
      "1875/1875 [==============================] - 2s 1ms/step - loss: 0.0031 - accuracy: 0.9990\n",
      "Epoch 33/40\n",
      "1875/1875 [==============================] - 2s 1ms/step - loss: 0.0040 - accuracy: 0.9985\n",
      "Epoch 34/40\n",
      "1875/1875 [==============================] - 2s 1ms/step - loss: 0.0031 - accuracy: 0.9991\n",
      "Epoch 35/40\n",
      "1875/1875 [==============================] - 2s 1ms/step - loss: 0.0029 - accuracy: 0.9991\n",
      "Epoch 36/40\n",
      "1875/1875 [==============================] - 2s 1ms/step - loss: 0.0042 - accuracy: 0.9984\n",
      "Epoch 37/40\n",
      "1875/1875 [==============================] - 2s 1ms/step - loss: 0.0022 - accuracy: 0.9994\n",
      "Epoch 38/40\n",
      "1875/1875 [==============================] - 2s 1ms/step - loss: 0.0045 - accuracy: 0.9987\n",
      "Epoch 39/40\n",
      "1875/1875 [==============================] - 2s 1ms/step - loss: 0.0027 - accuracy: 0.9991\n",
      "Epoch 40/40\n",
      "1875/1875 [==============================] - 2s 1ms/step - loss: 0.0023 - accuracy: 0.9992\n"
     ]
    },
    {
     "data": {
      "text/plain": [
       "<keras.callbacks.History at 0x7f7b175214c0>"
      ]
     },
     "execution_count": 26,
     "metadata": {},
     "output_type": "execute_result"
    }
   ],
   "source": [
    "model.fit(training_data, training_labels, epochs=40)"
   ]
  },
  {
   "cell_type": "code",
   "execution_count": 27,
   "metadata": {},
   "outputs": [
    {
     "name": "stdout",
     "output_type": "stream",
     "text": [
      "313/313 [==============================] - 0s 949us/step - loss: 0.1441 - accuracy: 0.9785\n"
     ]
    },
    {
     "data": {
      "text/plain": [
       "[0.14410261809825897, 0.9785000085830688]"
      ]
     },
     "execution_count": 27,
     "metadata": {},
     "output_type": "execute_result"
    }
   ],
   "source": [
    "model.evaluate(test_data, test_labels)"
   ]
  },
  {
   "cell_type": "markdown",
   "metadata": {},
   "source": [
    "Predict"
   ]
  },
  {
   "cell_type": "code",
   "execution_count": 31,
   "metadata": {},
   "outputs": [
    {
     "name": "stdout",
     "output_type": "stream",
     "text": [
      "313/313 [==============================] - 0s 908us/step\n"
     ]
    }
   ],
   "source": [
    "predictions = model.predict(test_data)\n"
   ]
  },
  {
   "cell_type": "code",
   "execution_count": 32,
   "metadata": {},
   "outputs": [
    {
     "data": {
      "text/plain": [
       "<matplotlib.image.AxesImage at 0x7f7b1718b460>"
      ]
     },
     "execution_count": 32,
     "metadata": {},
     "output_type": "execute_result"
    },
    {
     "data": {
      "image/png": "[encoded data removed]",
      "text/plain": [
       "<Figure size 640x480 with 1 Axes>"
      ]
     },
     "metadata": {},
     "output_type": "display_data"
    }
   ],
   "source": [
    "image_index = 7\n",
    "plt.imshow(test_data[image_index], cmap='Greys')"
   ]
  },
  {
   "cell_type": "code",
   "execution_count": 39,
   "metadata": {},
   "outputs": [
    {
     "data": {
      "text/plain": [
       "<matplotlib.image.AxesImage at 0x7f7b16e3e6d0>"
      ]
     },
     "execution_count": 39,
     "metadata": {},
     "output_type": "execute_result"
    },
    {
     "data": {
      "image/png": "[encoded data removed]",
      "text/plain": [
       "<Figure size 640x480 with 1 Axes>"
      ]
     },
     "metadata": {},
     "output_type": "display_data"
    }
   ],
   "source": [
    "import numpy as np\n",
    "\n",
    "plt.title(\n",
    "    'Echter Wert: {} \\n\\nVorhersage: {}'\n",
    "    .format(test_labels[image_index], np.argmax(predictions[image_index]))\n",
    ")\n",
    "plt.imshow(test_data[image_index], cmap='Greys')"
   ]
  }
 ],
 "metadata": {
  "kernelspec": {
   "display_name": "Python 3.9.15 64-bit",
   "language": "python",
   "name": "python3"
  },
  "language_info": {
   "codemirror_mode": {
    "name": "ipython",
    "version": 3
   },
   "file_extension": ".py",
   "mimetype": "text/x-python",
   "name": "python",
   "nbconvert_exporter": "python",
   "pygments_lexer": "ipython3",
   "version": "3.9.15"
  },
  "orig_nbformat": 4,
  "vscode": {
   "interpreter": {
    "hash": "949777d72b0d2535278d3dc13498b2535136f6dfe0678499012e853ee9abcab1"
   }
  }
 },
 "nbformat": 4,
 "nbformat_minor": 2
}
